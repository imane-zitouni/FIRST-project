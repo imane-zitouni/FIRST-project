{
 "cells": [
  {
   "cell_type": "markdown",
   "id": "e0818926-3c08-4e32-82f7-4b1f38adf733",
   "metadata": {},
   "source": [
    "# Data Science Tools and Ecosystem"
   ]
  },
  {
   "cell_type": "markdown",
   "id": "87cff198-db81-4c13-bdbd-cf71511fd096",
   "metadata": {},
   "source": [
    "## In this notebook, Data Science Tools and Ecosystem are summarized."
   ]
  },
  {
   "cell_type": "markdown",
   "id": "9adae1ce-9d1d-44c0-a76c-f9beccafc340",
   "metadata": {},
   "source": [
    "### Some of the popular languages that Data Scientists use are:\n",
    "\n",
    "1. Python\n",
    "2. R\n",
    "3. SQL\n"
   ]
  },
  {
   "cell_type": "markdown",
   "id": "f5ce601c-a728-4e71-8017-5ed51958d246",
   "metadata": {},
   "source": [
    "### Some of the commonly used libraries used by Data Scientists include:\n",
    "\n",
    "1. NumPy: A fundamental package for scientific computing with Python, providing support for large, multi-dimensional arrays and matrices, as well as mathematical functions to operate on these arrays.\n",
    "\n",
    "2. pandas: An open-source data analysis and manipulation library for Python. It provides data structures like DataFrame and Series, making it easier to work with structured data.\n",
    "\n",
    "3. scikit-learn: A machine learning library for Python that provides simple and efficient tools for data mining and data analysis. It includes various algorithms for classification, regression, clustering, and more.\n",
    "\n",
    "4. Matplotlib: A 2D plotting library for Python that produces high-quality figures and charts. It's widely used for data visualization and creating informative graphical representations of data.\n",
    "\n",
    "5. TensorFlow or PyTorch: Deep learning frameworks that are essential for building and training neural networks. Data scientists often choose one of these libraries for deep learning tasks, depending on their preferences and project requirements.\n",
    "mm"
   ]
  },
  {
   "cell_type": "markdown",
   "id": "963fc2e3-9c52-4847-a635-9ad176a23790",
   "metadata": {},
   "source": [
    "### | Data Science Tools    |\n",
    "| Jupyter Notebook            |\n",
    "\n",
    "| RStudio                      |\n",
    "\n",
    "| Apache Zeppelin             |\n"
   ]
  },
  {
   "cell_type": "markdown",
   "id": "06a94e34-8b60-4a7d-8c9b-3cd1ffac5730",
   "metadata": {},
   "source": [
    "### Examples of Evaluating Arithmetic Expressions in Python\n",
    "Below are a few examples of evaluating arithmetic expressions in Python.\n"
   ]
  },
  {
   "cell_type": "code",
   "execution_count": 2,
   "id": "52ca58f0-2da3-4c2a-9fbe-3a0a372088eb",
   "metadata": {},
   "outputs": [
    {
     "data": {
      "text/plain": [
       "17"
      ]
     },
     "execution_count": 2,
     "metadata": {},
     "output_type": "execute_result"
    }
   ],
   "source": [
    "(3*4)+5 #This a simple arithmetic expression to mutiply then add integers."
   ]
  },
  {
   "cell_type": "code",
   "execution_count": 3,
   "id": "723fc159-48fa-4b13-b6c9-6e7ab51180ea",
   "metadata": {},
   "outputs": [
    {
     "name": "stdout",
     "output_type": "stream",
     "text": [
      "3.3333333333333335\n"
     ]
    }
   ],
   "source": [
    "# Convert minutes to hours\n",
    "minutes = 200\n",
    "hours = minutes / 60\n",
    "\n",
    "print(hours)\n"
   ]
  },
  {
   "cell_type": "markdown",
   "id": "d1580a0a-7538-4ef4-b506-b8e8a428a5da",
   "metadata": {},
   "source": [
    "### **Objectives:**\n",
    "\n",
    "- List popular languages for Data Science.\n",
    "- Explain the importance of data cleaning and preprocessing.\n",
    "- Discuss key machine learning algorithms.\n",
    "- Demonstrate data visualization techniques.\n",
    "- Highlight best practices for model evaluation and selection.\n"
   ]
  },
  {
   "cell_type": "markdown",
   "id": "2b675e8e-3dfa-4cbb-9e61-93d32cd0d805",
   "metadata": {},
   "source": [
    "## Author\n",
    "IMANE ZITOUNI\n"
   ]
  },
  {
   "cell_type": "code",
   "execution_count": null,
   "id": "a47b68da-401c-44aa-b949-8fe6b06bd7fc",
   "metadata": {},
   "outputs": [],
   "source": []
  }
 ],
 "metadata": {
  "kernelspec": {
   "display_name": "default:Python",
   "language": "python",
   "name": "conda-env-default-py"
  },
  "language_info": {
   "codemirror_mode": {
    "name": "ipython",
    "version": 3
   },
   "file_extension": ".py",
   "mimetype": "text/x-python",
   "name": "python",
   "nbconvert_exporter": "python",
   "pygments_lexer": "ipython3",
   "version": "3.9.13"
  }
 },
 "nbformat": 4,
 "nbformat_minor": 5
}
